{
 "cells": [
  {
   "cell_type": "code",
   "execution_count": 1,
   "metadata": {},
   "outputs": [],
   "source": [
    "import pandas as pd\n",
    "\n",
    "# Function to split DataFrame into chunks\n",
    "def split_dataframe(df: pd.DataFrame, chunk_size: int) -> list[pd.DataFrame]:\n",
    "    return [df.iloc[i : i + chunk_size] for i in range(0, len(df), chunk_size)]\n",
    "\n",
    "\n",
    "series = pd.read_pickle(\"./data/pfw/03_sample_asins.pkl\")\n",
    "\n",
    "if not isinstance(series, pd.Series):\n",
    "    raise Exception(\"df is not a pd.Series\")\n",
    "\n",
    "df = pd.DataFrame(\n",
    "    columns=[\"asin\", \"review_complete\"],\n",
    "    data={\"asin\": series, \"review_complete\": [None] * len(series)},\n",
    ")\n",
    "\n",
    "df = df.sort_index()\n",
    "df.to_pickle(\"./data/pfw/04_extract_reviews.pkl\")"
   ]
  }
 ],
 "metadata": {
  "kernelspec": {
   "display_name": "zon-crawler-iOPTyq1w",
   "language": "python",
   "name": "python3"
  },
  "language_info": {
   "codemirror_mode": {
    "name": "ipython",
    "version": 3
   },
   "file_extension": ".py",
   "mimetype": "text/x-python",
   "name": "python",
   "nbconvert_exporter": "python",
   "pygments_lexer": "ipython3",
   "version": "3.12.5"
  }
 },
 "nbformat": 4,
 "nbformat_minor": 2
}
