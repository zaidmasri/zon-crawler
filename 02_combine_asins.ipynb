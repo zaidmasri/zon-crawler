{
 "cells": [
  {
   "cell_type": "code",
   "execution_count": 1,
   "metadata": {},
   "outputs": [],
   "source": [
    "import pandas as pd"
   ]
  },
  {
   "cell_type": "code",
   "execution_count": 2,
   "metadata": {},
   "outputs": [
    {
     "name": "stdout",
     "output_type": "stream",
     "text": [
      "Combined unique ASINs have been written to 'combined_unique_asins.pkl'.\n"
     ]
    }
   ],
   "source": [
    "# Load the data\n",
    "harvard_asins = pd.read_pickle('./data/pfw/01_unique_harvard_asins.pkl')\n",
    "ucsd_asins = pd.read_pickle('./data/pfw/01_unique_ucsd_asins.pkl')\n",
    "\n",
    "# Ensure the data is in DataFrame format\n",
    "if isinstance(harvard_asins, pd.Series):\n",
    "    harvard_asins = harvard_asins.to_frame()\n",
    "if isinstance(ucsd_asins, pd.Series):\n",
    "    ucsd_asins = ucsd_asins.to_frame()\n",
    "\n",
    "# Rename the first column to 'asin'\n",
    "harvard_asins.rename(columns={harvard_asins.columns[0]: 'asin'}, inplace=True)\n",
    "ucsd_asins.rename(columns={ucsd_asins.columns[0]: 'asin'}, inplace=True)\n",
    "\n",
    "# Add the 'source' column\n",
    "# harvard_asins['source'] = 'harvard'\n",
    "# ucsd_asins['source'] = 'ucsd'\n",
    "\n",
    "# Combine the DataFrames\n",
    "all_asins = pd.concat([harvard_asins, ucsd_asins])\n",
    "\n",
    "# Remove duplicates based on the 'asin' column\n",
    "unique_asins = all_asins.drop_duplicates(subset='asin').copy()\n",
    "\n",
    "# Add the 'is_reviewed' column and set all values to 0\n",
    "# unique_asins['is_reviewed'] = 0\n",
    "\n",
    "# Save the result to a new pkl file\n",
    "unique_asins.to_pickle(path='./data/pfw/02_combined_unique_asins.pkl')\n",
    "\n",
    "print(\"Combined unique ASINs have been written to 'combined_unique_asins.pkl'.\")\n"
   ]
  },
  {
   "cell_type": "code",
   "execution_count": 3,
   "metadata": {},
   "outputs": [
    {
     "name": "stdout",
     "output_type": "stream",
     "text": [
      "Total ASINs: 5335156\n",
      "Harvard matches: 939083\n",
      "UCSD matches: 4446065\n",
      "ASINs in both: 49992\n"
     ]
    }
   ],
   "source": [
    "# Load the data\n",
    "harvard_asins = pd.read_pickle(\"./data/pfw/unique_harvard_asins.pkl\")\n",
    "# if isinstance(harvard_asins, pd.Series):\n",
    "#     harvard_asins = harvard_asins.to_frame()\n",
    "    \n",
    "ucsd_asins = pd.read_pickle(\"./data/pfw/unique_ucsd_asins.pkl\")\n",
    "# if isinstance(ucsd_asins, pd.Series):\n",
    "#     ucsd_asins = ucsd_asins.to_frame()\n",
    "\n",
    "pfw_asins = pd.read_pickle(filepath_or_buffer=\"./data/pfw/combined_unique_asins.pkl\")\n",
    "pfw_asins[\"harvard\"] = 0\n",
    "pfw_asins[\"ucsd\"] = 0\n",
    "\n",
    "if isinstance(pfw_asins, pd.Series):\n",
    "    pfw_asins = pfw_asins.to_frame()\n",
    "\n",
    "\n",
    "# Assuming harvard_asins and ucsd_asins are Series or DataFrames with an 'asin' column\n",
    "# Convert to sets for efficient lookup\n",
    "harvard_set = set(\n",
    "    harvard_asins.values\n",
    "    if isinstance(harvard_asins, pd.Series)\n",
    "    else harvard_asins[\"asin\"].values\n",
    ")\n",
    "ucsd_set = set(\n",
    "    ucsd_asins.values\n",
    "    if isinstance(ucsd_asins, pd.Series)\n",
    "    else ucsd_asins[\"asin\"].values\n",
    ")\n",
    "\n",
    "# Set the flags using boolean indexing\n",
    "pfw_asins.loc[pfw_asins[\"asin\"].isin(harvard_set), \"harvard\"] = 1\n",
    "pfw_asins.loc[pfw_asins[\"asin\"].isin(ucsd_set), \"ucsd\"] = 1\n",
    "\n",
    "# Optionally, verify the results\n",
    "print(\"Total ASINs:\", len(pfw_asins))\n",
    "print(\"Harvard matches:\", pfw_asins[\"harvard\"].sum())\n",
    "print(\"UCSD matches:\", pfw_asins[\"ucsd\"].sum())\n",
    "print(\n",
    "    \"ASINs in both:\",\n",
    "    len(pfw_asins[(pfw_asins[\"harvard\"] == 1) & (pfw_asins[\"ucsd\"] == 1)]),\n",
    ")\n"
   ]
  },
  {
   "cell_type": "code",
   "execution_count": 4,
   "metadata": {},
   "outputs": [
    {
     "data": {
      "text/html": [
       "<div>\n",
       "<style scoped>\n",
       "    .dataframe tbody tr th:only-of-type {\n",
       "        vertical-align: middle;\n",
       "    }\n",
       "\n",
       "    .dataframe tbody tr th {\n",
       "        vertical-align: top;\n",
       "    }\n",
       "\n",
       "    .dataframe thead th {\n",
       "        text-align: right;\n",
       "    }\n",
       "</style>\n",
       "<table border=\"1\" class=\"dataframe\">\n",
       "  <thead>\n",
       "    <tr style=\"text-align: right;\">\n",
       "      <th></th>\n",
       "      <th>asin</th>\n",
       "      <th>harvard</th>\n",
       "      <th>ucsd</th>\n",
       "    </tr>\n",
       "  </thead>\n",
       "  <tbody>\n",
       "    <tr>\n",
       "      <th>0</th>\n",
       "      <td>B0143RTB1E</td>\n",
       "      <td>1</td>\n",
       "      <td>0</td>\n",
       "    </tr>\n",
       "    <tr>\n",
       "      <th>1</th>\n",
       "      <td>B01MA1MJ6H</td>\n",
       "      <td>1</td>\n",
       "      <td>0</td>\n",
       "    </tr>\n",
       "    <tr>\n",
       "      <th>2</th>\n",
       "      <td>B078JZTFN3</td>\n",
       "      <td>1</td>\n",
       "      <td>0</td>\n",
       "    </tr>\n",
       "    <tr>\n",
       "      <th>3</th>\n",
       "      <td>B06XWF9HML</td>\n",
       "      <td>1</td>\n",
       "      <td>0</td>\n",
       "    </tr>\n",
       "    <tr>\n",
       "      <th>4</th>\n",
       "      <td>B00837ZOI0</td>\n",
       "      <td>1</td>\n",
       "      <td>0</td>\n",
       "    </tr>\n",
       "  </tbody>\n",
       "</table>\n",
       "</div>"
      ],
      "text/plain": [
       "         asin  harvard  ucsd\n",
       "0  B0143RTB1E        1     0\n",
       "1  B01MA1MJ6H        1     0\n",
       "2  B078JZTFN3        1     0\n",
       "3  B06XWF9HML        1     0\n",
       "4  B00837ZOI0        1     0"
      ]
     },
     "execution_count": 4,
     "metadata": {},
     "output_type": "execute_result"
    }
   ],
   "source": [
    "pfw_asins.head()\n"
   ]
  },
  {
   "cell_type": "code",
   "execution_count": 5,
   "metadata": {},
   "outputs": [
    {
     "data": {
      "text/html": [
       "<div>\n",
       "<style scoped>\n",
       "    .dataframe tbody tr th:only-of-type {\n",
       "        vertical-align: middle;\n",
       "    }\n",
       "\n",
       "    .dataframe tbody tr th {\n",
       "        vertical-align: top;\n",
       "    }\n",
       "\n",
       "    .dataframe thead th {\n",
       "        text-align: right;\n",
       "    }\n",
       "</style>\n",
       "<table border=\"1\" class=\"dataframe\">\n",
       "  <thead>\n",
       "    <tr style=\"text-align: right;\">\n",
       "      <th></th>\n",
       "      <th>asin</th>\n",
       "      <th>harvard</th>\n",
       "      <th>ucsd</th>\n",
       "    </tr>\n",
       "  </thead>\n",
       "  <tbody>\n",
       "    <tr>\n",
       "      <th>28977252</th>\n",
       "      <td>1853672831</td>\n",
       "      <td>0</td>\n",
       "      <td>1</td>\n",
       "    </tr>\n",
       "    <tr>\n",
       "      <th>28977399</th>\n",
       "      <td>0764120964</td>\n",
       "      <td>0</td>\n",
       "      <td>1</td>\n",
       "    </tr>\n",
       "    <tr>\n",
       "      <th>29017781</th>\n",
       "      <td>0071455531</td>\n",
       "      <td>0</td>\n",
       "      <td>1</td>\n",
       "    </tr>\n",
       "    <tr>\n",
       "      <th>29089791</th>\n",
       "      <td>0609806483</td>\n",
       "      <td>0</td>\n",
       "      <td>1</td>\n",
       "    </tr>\n",
       "    <tr>\n",
       "      <th>29113822</th>\n",
       "      <td>0596514522</td>\n",
       "      <td>0</td>\n",
       "      <td>1</td>\n",
       "    </tr>\n",
       "  </tbody>\n",
       "</table>\n",
       "</div>"
      ],
      "text/plain": [
       "                asin  harvard  ucsd\n",
       "28977252  1853672831        0     1\n",
       "28977399  0764120964        0     1\n",
       "29017781  0071455531        0     1\n",
       "29089791  0609806483        0     1\n",
       "29113822  0596514522        0     1"
      ]
     },
     "execution_count": 5,
     "metadata": {},
     "output_type": "execute_result"
    }
   ],
   "source": [
    "pfw_asins.tail()"
   ]
  },
  {
   "cell_type": "code",
   "execution_count": 6,
   "metadata": {},
   "outputs": [],
   "source": [
    "# pfw_asins.to_csv('./data/pfw/02_combined_unique_asins_final.csv', index=False)\n",
    "pfw_asins.to_pickle('./data/pfw/02_combined_unique_asins_final.pkl')"
   ]
  }
 ],
 "metadata": {
  "kernelspec": {
   "display_name": "zon-crawler-iOPTyq1w",
   "language": "python",
   "name": "python3"
  },
  "language_info": {
   "codemirror_mode": {
    "name": "ipython",
    "version": 3
   },
   "file_extension": ".py",
   "mimetype": "text/x-python",
   "name": "python",
   "nbconvert_exporter": "python",
   "pygments_lexer": "ipython3",
   "version": "3.12.5"
  }
 },
 "nbformat": 4,
 "nbformat_minor": 2
}
