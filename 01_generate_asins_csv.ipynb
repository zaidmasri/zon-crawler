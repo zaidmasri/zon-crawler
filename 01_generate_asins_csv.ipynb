{
 "cells": [
  {
   "cell_type": "code",
   "execution_count": 3,
   "metadata": {},
   "outputs": [],
   "source": [
    "import pandas as pd"
   ]
  },
  {
   "cell_type": "code",
   "execution_count": 11,
   "metadata": {},
   "outputs": [
    {
     "name": "stdout",
     "output_type": "stream",
     "text": [
      "Unique ASINs have been written to 'unique_harvard_asins.csv'.\n"
     ]
    }
   ],
   "source": [
    "harvard_df = pd.read_csv(\"./data/harvard/amazon-purchases.csv\")\n",
    "harvard_asins = harvard_df[\"ASIN/ISBN (Product Code)\"].drop_duplicates()\n",
    "\n",
    "# Save the unique ASINs to a new CSV file\n",
    "harvard_asins.to_csv(\"./data/pfw/unique_harvard_asins.csv\", index=False)\n",
    "\n",
    "print(\"Unique ASINs have been written to 'unique_harvard_asins.csv'.\")"
   ]
  },
  {
   "cell_type": "code",
   "execution_count": 12,
   "metadata": {},
   "outputs": [
    {
     "name": "stdout",
     "output_type": "stream",
     "text": [
      "Unique ASINs have been written to 'unique_ucsd_asins.csv'.\n"
     ]
    }
   ],
   "source": [
    "ucsd_df = pd.read_csv('./data/ucsd/Books.csv')\n",
    "ucsd_asins = ucsd_df['parent_asin'].drop_duplicates()\n",
    "\n",
    "# Save the unique ASINs to a new CSV file\n",
    "ucsd_asins.to_csv('./data/pfw/unique_ucsd_asins.csv', index=False)\n",
    "print(\"Unique ASINs have been written to 'unique_ucsd_asins.csv'.\")\n"
   ]
  },
  {
   "cell_type": "code",
   "execution_count": 17,
   "metadata": {},
   "outputs": [
    {
     "name": "stdout",
     "output_type": "stream",
     "text": [
      "Combined unique ASINs have been written to 'combined_unique_asins.csv'.\n"
     ]
    }
   ],
   "source": [
    "import pandas as pd\n",
    "\n",
    "# Load the two CSV files\n",
    "harvard_asins = pd.read_csv('./data/pfw/unique_harvard_asins.csv')\n",
    "ucsd_asins = pd.read_csv('./data/pfw/unique_ucsd_asins.csv')\n",
    "\n",
    "# Rename the first column to 'asin'\n",
    "harvard_asins.rename(columns={harvard_asins.columns[0]: 'asin'}, inplace=True)\n",
    "ucsd_asins.rename(columns={ucsd_asins.columns[0]: 'asin'}, inplace=True)\n",
    "\n",
    "# Add the 'source' column\n",
    "harvard_asins['source'] = 'harvard'\n",
    "ucsd_asins['source'] = 'ucsd'\n",
    "\n",
    "# Combine both dataframes\n",
    "combined_asins = pd.concat([harvard_asins, ucsd_asins])\n",
    "\n",
    "# Remove duplicates based on the 'asin' column\n",
    "unique_asins = combined_asins.drop_duplicates(subset='asin').copy()\n",
    "\n",
    "# Add the 'is_reviewed' column and set all values to 0\n",
    "unique_asins['is_reviewed'] = 0\n",
    "\n",
    "# Save the result to a new CSV file\n",
    "unique_asins.to_csv('./data/pfw/combined_unique_asins.csv', index=False)\n",
    "\n",
    "print(\"Combined unique ASINs have been written to 'combined_unique_asins.csv'.\")\n"
   ]
  },
  {
   "cell_type": "code",
   "execution_count": 7,
   "metadata": {},
   "outputs": [
    {
     "name": "stdout",
     "output_type": "stream",
     "text": [
      "29139329\n"
     ]
    }
   ],
   "source": [
    "df = pd.read_csv('./data/ucsd/Books.csv')\n",
    "print(len(df))"
   ]
  },
  {
   "cell_type": "code",
   "execution_count": 22,
   "metadata": {},
   "outputs": [
    {
     "name": "stdout",
     "output_type": "stream",
     "text": [
      "5335157\n"
     ]
    }
   ],
   "source": [
    "df = pd.read_csv('./data/pfw/combined_unique_asins.csv')\n",
    "df.head()"
   ]
  }
 ],
 "metadata": {
  "kernelspec": {
   "display_name": "zon-crawler-iOPTyq1w",
   "language": "python",
   "name": "python3"
  },
  "language_info": {
   "codemirror_mode": {
    "name": "ipython",
    "version": 3
   },
   "file_extension": ".py",
   "mimetype": "text/x-python",
   "name": "python",
   "nbconvert_exporter": "python",
   "pygments_lexer": "ipython3",
   "version": "3.12.5"
  }
 },
 "nbformat": 4,
 "nbformat_minor": 2
}
