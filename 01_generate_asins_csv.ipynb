{
 "cells": [
  {
   "cell_type": "code",
   "execution_count": 2,
   "metadata": {},
   "outputs": [],
   "source": [
    "import pandas as pd"
   ]
  },
  {
   "cell_type": "code",
   "execution_count": 3,
   "metadata": {},
   "outputs": [
    {
     "name": "stdout",
     "output_type": "stream",
     "text": [
      "Unique ASINs have been written to 'unique_harvard_asins.pkl'.\n"
     ]
    }
   ],
   "source": [
    "harvard_df = pd.read_csv(\"./data/harvard/amazon-purchases.csv\")\n",
    "harvard_asins = harvard_df[\"ASIN/ISBN (Product Code)\"].drop_duplicates()\n",
    "\n",
    "# Save the unique ASINs to a new pkl file\n",
    "harvard_asins.to_pickle(\"./data/pfw/unique_harvard_asins.pkl\")\n",
    "\n",
    "print(\"Unique ASINs have been written to 'unique_harvard_asins.pkl'.\")"
   ]
  },
  {
   "cell_type": "code",
   "execution_count": 4,
   "metadata": {},
   "outputs": [
    {
     "name": "stdout",
     "output_type": "stream",
     "text": [
      "Unique ASINs have been written to 'unique_ucsd_asins.pkl'.\n"
     ]
    }
   ],
   "source": [
    "ucsd_df = pd.read_csv('./data/ucsd/Books.csv')\n",
    "ucsd_asins = ucsd_df['parent_asin'].drop_duplicates()\n",
    "\n",
    "# Save the unique ASINs to a new pkl file\n",
    "ucsd_asins.to_pickle('./data/pfw/unique_ucsd_asins.pkl')\n",
    "print(\"Unique ASINs have been written to 'unique_ucsd_asins.pkl'.\")\n"
   ]
  },
  {
   "cell_type": "code",
   "execution_count": 5,
   "metadata": {},
   "outputs": [
    {
     "name": "stdout",
     "output_type": "stream",
     "text": [
      "Combined unique ASINs have been written to 'combined_unique_asins.pkl'.\n"
     ]
    }
   ],
   "source": [
    "# Load the data\n",
    "harvard_asins = pd.read_pickle('./data/pfw/unique_harvard_asins.pkl')\n",
    "ucsd_asins = pd.read_pickle('./data/pfw/unique_ucsd_asins.pkl')\n",
    "\n",
    "# Ensure the data is in DataFrame format\n",
    "if isinstance(harvard_asins, pd.Series):\n",
    "    harvard_asins = harvard_asins.to_frame()\n",
    "if isinstance(ucsd_asins, pd.Series):\n",
    "    ucsd_asins = ucsd_asins.to_frame()\n",
    "\n",
    "# Rename the first column to 'asin'\n",
    "harvard_asins.rename(columns={harvard_asins.columns[0]: 'asin'}, inplace=True)\n",
    "ucsd_asins.rename(columns={ucsd_asins.columns[0]: 'asin'}, inplace=True)\n",
    "\n",
    "# Add the 'source' column\n",
    "harvard_asins['source'] = 'harvard'\n",
    "ucsd_asins['source'] = 'ucsd'\n",
    "\n",
    "# Combine the DataFrames\n",
    "all_asins = pd.concat([harvard_asins, ucsd_asins])\n",
    "\n",
    "# Remove duplicates based on the 'asin' column\n",
    "unique_asins = all_asins.drop_duplicates(subset='asin').copy()\n",
    "\n",
    "# Add the 'is_reviewed' column and set all values to 0\n",
    "unique_asins['is_reviewed'] = 0\n",
    "\n",
    "# Save the result to a new pkl file\n",
    "unique_asins.to_pickle('./data/pfw/combined_unique_asins.pkl')\n",
    "\n",
    "print(\"Combined unique ASINs have been written to 'combined_unique_asins.pkl'.\")\n"
   ]
  },
  {
   "cell_type": "code",
   "execution_count": 6,
   "metadata": {},
   "outputs": [
    {
     "data": {
      "text/html": [
       "<div>\n",
       "<style scoped>\n",
       "    .dataframe tbody tr th:only-of-type {\n",
       "        vertical-align: middle;\n",
       "    }\n",
       "\n",
       "    .dataframe tbody tr th {\n",
       "        vertical-align: top;\n",
       "    }\n",
       "\n",
       "    .dataframe thead th {\n",
       "        text-align: right;\n",
       "    }\n",
       "</style>\n",
       "<table border=\"1\" class=\"dataframe\">\n",
       "  <thead>\n",
       "    <tr style=\"text-align: right;\">\n",
       "      <th></th>\n",
       "      <th>asin</th>\n",
       "      <th>source</th>\n",
       "      <th>is_reviewed</th>\n",
       "    </tr>\n",
       "  </thead>\n",
       "  <tbody>\n",
       "    <tr>\n",
       "      <th>28977252</th>\n",
       "      <td>1853672831</td>\n",
       "      <td>ucsd</td>\n",
       "      <td>0</td>\n",
       "    </tr>\n",
       "    <tr>\n",
       "      <th>28977399</th>\n",
       "      <td>0764120964</td>\n",
       "      <td>ucsd</td>\n",
       "      <td>0</td>\n",
       "    </tr>\n",
       "    <tr>\n",
       "      <th>29017781</th>\n",
       "      <td>0071455531</td>\n",
       "      <td>ucsd</td>\n",
       "      <td>0</td>\n",
       "    </tr>\n",
       "    <tr>\n",
       "      <th>29089791</th>\n",
       "      <td>0609806483</td>\n",
       "      <td>ucsd</td>\n",
       "      <td>0</td>\n",
       "    </tr>\n",
       "    <tr>\n",
       "      <th>29113822</th>\n",
       "      <td>0596514522</td>\n",
       "      <td>ucsd</td>\n",
       "      <td>0</td>\n",
       "    </tr>\n",
       "  </tbody>\n",
       "</table>\n",
       "</div>"
      ],
      "text/plain": [
       "                asin source  is_reviewed\n",
       "28977252  1853672831   ucsd            0\n",
       "28977399  0764120964   ucsd            0\n",
       "29017781  0071455531   ucsd            0\n",
       "29089791  0609806483   ucsd            0\n",
       "29113822  0596514522   ucsd            0"
      ]
     },
     "execution_count": 6,
     "metadata": {},
     "output_type": "execute_result"
    }
   ],
   "source": [
    "unique_asins.tail()\n"
   ]
  },
  {
   "cell_type": "code",
   "execution_count": 7,
   "metadata": {},
   "outputs": [
    {
     "data": {
      "text/html": [
       "<div>\n",
       "<style scoped>\n",
       "    .dataframe tbody tr th:only-of-type {\n",
       "        vertical-align: middle;\n",
       "    }\n",
       "\n",
       "    .dataframe tbody tr th {\n",
       "        vertical-align: top;\n",
       "    }\n",
       "\n",
       "    .dataframe thead th {\n",
       "        text-align: right;\n",
       "    }\n",
       "</style>\n",
       "<table border=\"1\" class=\"dataframe\">\n",
       "  <thead>\n",
       "    <tr style=\"text-align: right;\">\n",
       "      <th></th>\n",
       "      <th>is_reviewed</th>\n",
       "    </tr>\n",
       "  </thead>\n",
       "  <tbody>\n",
       "    <tr>\n",
       "      <th>count</th>\n",
       "      <td>5335156.0</td>\n",
       "    </tr>\n",
       "    <tr>\n",
       "      <th>mean</th>\n",
       "      <td>0.0</td>\n",
       "    </tr>\n",
       "    <tr>\n",
       "      <th>std</th>\n",
       "      <td>0.0</td>\n",
       "    </tr>\n",
       "    <tr>\n",
       "      <th>min</th>\n",
       "      <td>0.0</td>\n",
       "    </tr>\n",
       "    <tr>\n",
       "      <th>25%</th>\n",
       "      <td>0.0</td>\n",
       "    </tr>\n",
       "    <tr>\n",
       "      <th>50%</th>\n",
       "      <td>0.0</td>\n",
       "    </tr>\n",
       "    <tr>\n",
       "      <th>75%</th>\n",
       "      <td>0.0</td>\n",
       "    </tr>\n",
       "    <tr>\n",
       "      <th>max</th>\n",
       "      <td>0.0</td>\n",
       "    </tr>\n",
       "  </tbody>\n",
       "</table>\n",
       "</div>"
      ],
      "text/plain": [
       "       is_reviewed\n",
       "count    5335156.0\n",
       "mean           0.0\n",
       "std            0.0\n",
       "min            0.0\n",
       "25%            0.0\n",
       "50%            0.0\n",
       "75%            0.0\n",
       "max            0.0"
      ]
     },
     "execution_count": 7,
     "metadata": {},
     "output_type": "execute_result"
    }
   ],
   "source": [
    "unique_asins.describe()"
   ]
  }
 ],
 "metadata": {
  "kernelspec": {
   "display_name": "zon-crawler-iOPTyq1w",
   "language": "python",
   "name": "python3"
  },
  "language_info": {
   "codemirror_mode": {
    "name": "ipython",
    "version": 3
   },
   "file_extension": ".py",
   "mimetype": "text/x-python",
   "name": "python",
   "nbconvert_exporter": "python",
   "pygments_lexer": "ipython3",
   "version": "3.12.5"
  }
 },
 "nbformat": 4,
 "nbformat_minor": 2
}
