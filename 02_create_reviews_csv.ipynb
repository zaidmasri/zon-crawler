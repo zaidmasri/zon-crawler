{
 "cells": [
  {
   "cell_type": "markdown",
   "metadata": {},
   "source": [
    "# Create CSV file for Review data"
   ]
  },
  {
   "cell_type": "code",
   "execution_count": 1,
   "metadata": {},
   "outputs": [
    {
     "name": "stdout",
     "output_type": "stream",
     "text": [
      "Response status: 200\n",
      "Response length: 117712\n",
      "HTML length: 117712\n",
      "Product name element not found\n",
      "Rating element not found\n",
      "Review count element not found\n",
      "Found 0 review elements\n",
      "Product: \n",
      "Overall Rating: 0.0\n",
      "Total Reviews: 0\n",
      "\n",
      "First 0 reviews:\n"
     ]
    }
   ],
   "source": [
    "from amazon_scraper import AmazonScraper\n",
    "scraper = AmazonScraper()\n",
    "asin = \"B09C6HGX1W\"  # Example ASIN\n",
    "\n",
    "product = scraper.scrape_product_reviews(asin)\n",
    "if product:\n",
    "    print(f\"Product: {product.name}\")\n",
    "    print(f\"Overall Rating: {product.overall_rating}\")\n",
    "    print(f\"Total Reviews: {product.total_review_count}\")\n",
    "    print(f\"\\nFirst {len(product.review_list)} reviews:\")\n",
    "    for review in product.review_list:\n",
    "        print(f\"\\nReview by {review.country} on {review.date}\")\n",
    "        print(f\"Rating: {review.rating}\")\n",
    "        print(f\"Title: {review.title}\")\n",
    "        print(f\"Verified Purchase: {review.verified_purchase}\")\n",
    "        print(f\"Found Helpful: {review.found_helpful}\")"
   ]
  }
 ],
 "metadata": {
  "kernelspec": {
   "display_name": "zon-crawler-iOPTyq1w",
   "language": "python",
   "name": "python3"
  },
  "language_info": {
   "codemirror_mode": {
    "name": "ipython",
    "version": 3
   },
   "file_extension": ".py",
   "mimetype": "text/x-python",
   "name": "python",
   "nbconvert_exporter": "python",
   "pygments_lexer": "ipython3",
   "version": "3.12.5"
  }
 },
 "nbformat": 4,
 "nbformat_minor": 2
}
