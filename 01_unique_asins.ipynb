{
 "cells": [
  {
   "cell_type": "code",
   "execution_count": 1,
   "metadata": {},
   "outputs": [],
   "source": [
    "import pandas as pd\n"
   ]
  },
  {
   "cell_type": "code",
   "execution_count": 2,
   "metadata": {},
   "outputs": [
    {
     "name": "stdout",
     "output_type": "stream",
     "text": [
      "Unique ASINs have been written to '01_unique_harvard_asins.pkl'.\n"
     ]
    }
   ],
   "source": [
    "harvard_df = pd.read_csv(\"./data/harvard/amazon-purchases.csv\")\n",
    "harvard_asins = harvard_df[\"asin\"].drop_duplicates()\n",
    "\n",
    "# Save the unique ASINs to a new pkl file\n",
    "harvard_asins.to_pickle(\"./data/pfw/01_unique_harvard_asins.pkl\")\n",
    "\n",
    "print(\"Unique ASINs have been written to '01_unique_harvard_asins.pkl'.\")"
   ]
  },
  {
   "cell_type": "code",
   "execution_count": 3,
   "metadata": {},
   "outputs": [
    {
     "name": "stdout",
     "output_type": "stream",
     "text": [
      "Unique ASINs have been written to '01_unique_ucsd_asins.pkl'.\n"
     ]
    }
   ],
   "source": [
    "ucsd_df = pd.read_csv('./data/ucsd/Books.csv')\n",
    "ucsd_asins = ucsd_df['asin'].drop_duplicates()\n",
    "\n",
    "# Save the unique ASINs to a new pkl file\n",
    "ucsd_asins.to_pickle('./data/pfw/01_unique_ucsd_asins.pkl')\n",
    "print(\"Unique ASINs have been written to '01_unique_ucsd_asins.pkl'.\")"
   ]
  }
 ],
 "metadata": {
  "kernelspec": {
   "display_name": "zon-crawler-iOPTyq1w",
   "language": "python",
   "name": "python3"
  },
  "language_info": {
   "codemirror_mode": {
    "name": "ipython",
    "version": 3
   },
   "file_extension": ".py",
   "mimetype": "text/x-python",
   "name": "python",
   "nbconvert_exporter": "python",
   "pygments_lexer": "ipython3",
   "version": "3.12.5"
  }
 },
 "nbformat": 4,
 "nbformat_minor": 2
}
